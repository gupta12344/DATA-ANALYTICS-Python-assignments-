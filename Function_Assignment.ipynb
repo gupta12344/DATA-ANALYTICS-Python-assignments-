{
  "nbformat": 4,
  "nbformat_minor": 0,
  "metadata": {
    "colab": {
      "provenance": [],
      "include_colab_link": true
    },
    "kernelspec": {
      "name": "python3",
      "display_name": "Python 3"
    },
    "language_info": {
      "name": "python"
    }
  },
  "cells": [
    {
      "cell_type": "markdown",
      "metadata": {
        "id": "view-in-github",
        "colab_type": "text"
      },
      "source": [
        "<a href=\"https://colab.research.google.com/github/gupta12344/DATA-ANALYTICS-Python-assignments-/blob/main/Function_Assignment.ipynb\" target=\"_parent\"><img src=\"https://colab.research.google.com/assets/colab-badge.svg\" alt=\"Open In Colab\"/></a>"
      ]
    },
    {
      "cell_type": "markdown",
      "source": [
        "# Theoritical questions"
      ],
      "metadata": {
        "id": "5cXgnXnMjwN4"
      }
    },
    {
      "cell_type": "markdown",
      "source": [
        "Q-1.  What is the difference between a function and a method in Python?\n",
        "\n",
        "Ans. Function:\n",
        "\n",
        "A function is a block of code designed to perform a specific task.\n",
        "\n",
        "It can be called independently, and it does not belong to any object.\n",
        "\n",
        "Functions are defined using the def keyword.\n",
        "\n",
        "Functions can be called anywhere in the program as long as they are in scope.\n",
        "    \n",
        "    eg-1\n",
        "    ef add(a, b): return a + b\n",
        "\n",
        "    eg-2\n",
        "    def square(n):\n",
        "    return n**2\n",
        "\n",
        "  Method:\n",
        "A method is a function that is associated with object(object is usually a instance of class).\n",
        "\n",
        "It is bound to an object,means it operates on that specific object.\n",
        "\n",
        "The first parameter of a method is always self (in instance methods), which refers to the current instance of the class. In case of a class method, it’s usually cls, referring to the class itself.\n",
        "\n",
        "\n",
        "    eg-1\n",
        "    def add(self, b): self.value += b\n",
        "\n",
        "    eg-2\n",
        "    class Person:\n",
        "    def __init__(self, name):\n",
        "    self.name = name\n",
        "    \n",
        "    def greet(self):\n",
        "    return f\"Hello, {self.name}!\"\n",
        "\n",
        "    person = Person(\"Bob\")\n",
        "    result = person.greet()  # Calling the method\n",
        "    print(result)  # Output: Hello, Bob!\n"
      ],
      "metadata": {
        "id": "QnbGwp5TKCNo"
      }
    },
    {
      "cell_type": "markdown",
      "source": [
        "Q-2. Explain the concept of function arguments and parameters in Python.\n",
        "\n",
        "Ans. 1. Parameters\n",
        "\n",
        "Parameters are the variables defined in a function definition (signature) that will receive the values passed to the function when it's called. Parameters act as placeholders for the input values and are used inside the function.\n",
        "\n"
      ],
      "metadata": {
        "id": "UBzCbTWeNQ02"
      }
    },
    {
      "cell_type": "code",
      "source": [
        "def function_name(parameter1, parameter2):\n",
        "    # function body\n",
        "    return parameter1 + parameter2\n",
        "\n",
        "# parameter1 and parameter 2 are the parameters."
      ],
      "metadata": {
        "id": "El6iUAUDO-Rs"
      },
      "execution_count": null,
      "outputs": []
    },
    {
      "cell_type": "code",
      "source": [
        "example\n",
        "def greet(name, age):\n",
        "    return f\"Hello, {name}! You are {age} years old.\"\n",
        "\n",
        "# Here name and age are the parameters defined in function greet."
      ],
      "metadata": {
        "id": "mIsVOwj2PIG3"
      },
      "execution_count": null,
      "outputs": []
    },
    {
      "cell_type": "markdown",
      "source": [
        "2. Arguments\n",
        "\n",
        "Arguments are the actual values that are passed to the function when it is called. These are the real data that replace the function's parameters.\n",
        "\n",
        "function_name(argument1, argument2)\n"
      ],
      "metadata": {
        "id": "jNz6czE_PaMB"
      }
    },
    {
      "cell_type": "code",
      "source": [
        "greet(\"Alice\", 30)\n",
        "# here Alice and 30 are the arguments passed to the function greet."
      ],
      "metadata": {
        "id": "RuziYa9OPcV6"
      },
      "execution_count": null,
      "outputs": []
    },
    {
      "cell_type": "markdown",
      "source": [
        "Q-3. What are the different ways to define and call a function in Python?\n",
        "Ans.\n",
        "\n",
        "\n",
        "1. Basic Function Definition and Call:\n",
        "\n",
        "This is the simplest way to define and call a function. The function is defined using the def keyword, followed by a function name, parameters (optional), and the function body. It is called using the function name and providing arguments (if any).\n",
        "\n",
        "\n",
        "\n",
        "\n"
      ],
      "metadata": {
        "id": "lHXbWhw4P0fS"
      }
    },
    {
      "cell_type": "code",
      "source": [
        "#definition\n",
        "def greet(name):\n",
        "    print(f\"Hello, {name}!\")\n",
        "\n",
        "#Call\n",
        "greet(\"Alice\")\n"
      ],
      "metadata": {
        "id": "VDPH3x_aQ-qr"
      },
      "execution_count": null,
      "outputs": []
    },
    {
      "cell_type": "markdown",
      "source": [
        "2. Function with Multiple Parameters\n",
        "You can define a function that accepts multiple parameters, and when calling the function, pass the corresponding arguments.\n",
        "\n",
        "    \n",
        "    #definition\n",
        "    def add(a, b):\n",
        "    return a + b\n",
        "   \n",
        "    #result\n",
        "    result = add(3, 5)\n",
        "    print(result)  # Output: 8\n",
        "\n",
        "3. Function with Default Arguments:\n",
        "\n",
        "You can provide default values for parameters. If no argument is passed for those parameters when calling the function, the default value is used.\n",
        "\n",
        "    #definition\n",
        "    def greet(name, age=25):\n",
        "    print(f\"Hello, {name}! You are {age} years old.\")\n",
        "\n",
        "    #Call\n",
        "    greet(\"Alice\")  \n",
        "    greet(\"Bob\", 30)  \n",
        "\n",
        "4. Keyword Arguments:\n",
        "\n",
        "With keyword arguments, you pass values to specific parameters by explicitly naming the parameter when calling the function. This allows passing arguments in any order.\n",
        "\n",
        "Definition:\n",
        "\n",
        "    def greet(name, age):\n",
        "    print(f\"Hello, {name}! You are {age} years old.\")\n",
        "Call:\n",
        "\n",
        "    greet(age=30, name=\"Alice\")  \n",
        "\n",
        "\n",
        "5. Variable-Length Arguments with *args:\n",
        "\n",
        "You can use *args to accept a variable number of positional arguments (the arguments are packed into a tuple).\n",
        "\n",
        "Definition:\n",
        "\n",
        "    def sum_all(*args):\n",
        "    return sum(args)\n",
        "Call:\n",
        "\n",
        "    result = sum_all(1, 2, 3, 4, 5)\n",
        "    print(result)  # Output: 15\n",
        "\n",
        "\n",
        "    6. Variable-Length Keyword Arguments with **kwargs:\n",
        "\n",
        "Use **kwargs to pass a variable number of keyword arguments. The arguments are packed into a dictionary where the keys are parameter names.\n",
        "\n",
        "Definition:\n",
        "\n",
        "    def print_info(**kwargs):\n",
        "    for key, value in kwargs.items():\n",
        "    print(f\"{key}: {value}\")\n",
        "\n",
        "Call:\n",
        "\n",
        "\n",
        "    print_info(name=\"Alice\", age=30, city=\"New York\")\n",
        "     \n",
        "\n",
        "    output\n",
        "    name: Alice\n",
        "    age: 30\n",
        "    city: New York\n",
        "\n",
        "7. Lambda Functions (Anonymous Functions)\n",
        "\n",
        "A lambda function is a small, anonymous function. It’s defined using the lambda keyword and can have any number of parameters but only one expression. Lambda functions are often used when you need a short, single-use function.\n",
        "\n",
        "Definition:\n",
        "    add = lambda x, y: x + y\n",
        "Call:\n",
        "\n",
        "    result = add(3, 5)\n",
        "    print(result)  # Output: 8\n",
        "\n",
        "\n",
        "8. Nested Functions:\n",
        "\n",
        "You can define a function inside another function. These inner functions are called nested functions or inner functions.\n",
        "\n",
        "Definition:\n",
        "\n",
        "    def outer():\n",
        "      def inner():\n",
        "        print(\"I am the inner function\")\n",
        "    inner()\n",
        "\n",
        "Call:\n",
        "\n",
        "    outer()  # Output: I am the inner function"
      ],
      "metadata": {
        "id": "WR0HfS2bRMB3"
      }
    },
    {
      "cell_type": "markdown",
      "source": [
        "Q-4. What is the purpose of the `return` statement in a Python function?\n",
        "Ans.\n",
        " It is used to send a result from a function back to the caller and can impact how the function behaves.\n",
        "\n",
        " The primary purpose of the return statement is to send a value from the function back to the place where the function was called. When a return statement is executed, it ends the function and sends the specified value (or object) back.\n",
        "\n",
        "\n",
        "    def add(a, b):\n",
        "    result = a + b\n",
        "    return result  # Returns the result back to the caller\n",
        "\n",
        "    sum_value = add(3, 5)  # Function call\n",
        "    print(sum_value)  # Output: 8\n",
        "\n",
        "If a function does not have a return statement (or if a return statement is not provided with a value), Python automatically returns None at the end of the function."
      ],
      "metadata": {
        "id": "AlBCMV09Tlep"
      }
    },
    {
      "cell_type": "markdown",
      "source": [
        "Q-5. What are iterators in Python and how do they differ from iterables?\n",
        "\n",
        "Ans.\n",
        " **`Iterables`**\n",
        "\n",
        "An iterable is any Python object that can return an iterator. Simply put, an iterable is any object that you can loop over (e.g., using a for loop). It implements the __iter__() method that returns an iterator.\n",
        "\n",
        "Key Characteristics of Iterables:\n",
        "\n",
        "Iterables are objects that contain multiple elements (e.g., lists, tuples, dictionaries, sets).\n",
        "They must implement the __iter__() method, which returns an iterator.\n",
        "They are used to create iterators, which are then used to retrieve their items one by one.\n",
        "\n",
        "Examples of iterables include:\n",
        "\n",
        "    List: [1, 2, 3]\n",
        "    String: 'Hello'\n",
        "    Tuple: (1, 2, 3)\n",
        "    Set: {1, 2, 3}\n",
        "    Dictionary: {\"key1\": \"value1\", \"key2\": \"value2\"}\n",
        "\n",
        " Example of an Iterable:\n",
        "\n",
        "    numbers = [1, 2, 3]\n",
        "    for num in numbers:  # numbers is an iterable\n",
        "    print(num)\n",
        "\n",
        "    # In the above code:\n",
        "\n",
        "    The list numbers is an iterable, and the for loop consumes its elements one by one.\n",
        "\n",
        "How Iterables Work:\n",
        "\n",
        "Internally, when you use an iterable in a for loop (or call next() on it), the iterable creates an iterator. This is handled automatically by Python, so you don't need to explicitly call the __iter__() method, but it's good to know that iterables support that method.\n",
        "\n",
        "2. Iterators\n",
        "\n",
        "An iterator is an object that represents a stream of data; it is created from an iterable and has the capability to traverse the iterable. An iterator keeps track of where it is in the iteration process, returning one element at a time when next() is called, and it knows when to stop when the iterable is exhausted.\n",
        "\n",
        "Key Characteristics of Iterators:\n",
        "\n",
        "An iterator is an object that implements the __next__() method (in Python 3) and the __iter__() method (to support for loops).\n",
        "\n",
        "The __next__() method is responsible for fetching the next item from the iterable, and when there are no more items, it raises the StopIteration exception.\n",
        "\n",
        "An iterator can be manually iterated over using the next() function.\n",
        "\n",
        "Example of an Iterator:\n",
        "\n",
        "    numbers = [1, 2, 3]\n",
        "    it = iter(numbers)  # Convert the iterable to an iterator\n",
        "    print(next(it))  # Output: 1\n",
        "    print(next(it))  # Output: 2\n",
        "    print(next(it))  # Output: 3\n",
        "    # print(next(it))  # Raises StopIteration error since there are no more items.\n",
        "Here:\n",
        "\n",
        "numbers is an iterable, and iter(numbers) creates an iterator from the iterable.\n",
        "next(it) fetches items one at a time until there are no more elements, and it raises StopIteration when exhausted.\n"
      ],
      "metadata": {
        "id": "yd-2L-i-UaUK"
      }
    },
    {
      "cell_type": "markdown",
      "source": [
        "Q-6. Explain the concept of generators in Python and how they are defined\n",
        "\n",
        "Ans. Generators are a special kind of function in Python that allow you to iterate over data without storing the entire sequence in memory at once. They generate items on the fly, one at a time, using a lazy evaluation approach. The most common way to define a generator is by using the yield keyword.\n",
        "\n",
        "yield is used in place of return to give a value back to the caller but preserves the state of the generator, so the function can continue where it left off the next time it is called.\n",
        "\n",
        "Unlike regular functions that return a value and exit, a generator pauses execution and yields values as requested."
      ],
      "metadata": {
        "id": "F2XBd2L2WN_v"
      }
    },
    {
      "cell_type": "code",
      "source": [
        "def my_generator():\n",
        "    for i in range(5):\n",
        "        yield i  # yields a value and pauses, the state is saved\n",
        "\n",
        "gen = my_generator()  # Create a generator object\n",
        "for value in gen:\n",
        "    print(value)  # Prints numbers from 0 to 4\n"
      ],
      "metadata": {
        "colab": {
          "base_uri": "https://localhost:8080/"
        },
        "id": "-YotEFN1XBsf",
        "outputId": "28a42951-5171-4a6d-de7e-ccc9b55faa5a"
      },
      "execution_count": null,
      "outputs": [
        {
          "output_type": "stream",
          "name": "stdout",
          "text": [
            "0\n",
            "1\n",
            "2\n",
            "3\n",
            "4\n"
          ]
        }
      ]
    },
    {
      "cell_type": "markdown",
      "source": [
        "Q-7. What are the Advantages of Using Generators Over Regular Functions?\n",
        "\n",
        "Ans.\n",
        "1. Memory Efficiency:\n",
        "\n",
        "Generators are more memory-efficient than regular functions because they produce one item at a time and don’t store the entire dataset in memory. This is especially useful when dealing with large datasets or infinite sequences.\n",
        "\n",
        "2. Lazy Evaluation:\n",
        "\n",
        "Generators support lazy evaluation, meaning they calculate the next value only when it's requested. This makes them ideal for large or complex data pipelines that can be computed on the fly without needing the entire dataset upfront.\n",
        "\n",
        "3. Improved Performance:\n",
        "\n",
        "Since a generator yields values as needed, it often performs better, especially in contexts like iterating over large files or databases, where you don’t need to load all data into memory at once.\n",
        "\n",
        "4. State Preservation:\n",
        "\n",
        "Generators keep track of their state between iterations. This enables long-running computations, such as producing a series of results from an ongoing process or stream.\n",
        "\n",
        "5. Convenience:\n",
        "\n",
        "Generators often reduce the complexity of your code. For example, generators for iterating through a list of large items avoid having to manually keep track of indices or other management routines.\n"
      ],
      "metadata": {
        "id": "iPOVcicIXFaZ"
      }
    },
    {
      "cell_type": "markdown",
      "source": [
        "Q-8. What is a lambda function in Python and when is it typically used?\n",
        "Ans.\n",
        "\n",
        "A lambda function in Python is a small anonymous function that is defined using the lambda keyword rather than the def keyword. It's used for creating simple, throwaway functions without needing to formally define them with a function name.\n",
        "\n",
        "Syntax for a lambda function:\n",
        "\n",
        "\n",
        "lambda arguments: expression\n",
        "\n",
        "It takes any number of arguments but only has one expression. The result of this expression is returned when the lambda function is called.\n",
        "Common use cases:\n",
        "Short functions that you don't want to define with the def keyword.\n",
        "Functions passed as arguments to higher-order functions, like map(), filter(), and sorted(), where a full function definition would be overkill.\n",
        "\n",
        "Examples of lambda functions:\n",
        "\n",
        "\n",
        "# A lambda function that adds two numbers\n",
        "add = lambda x, y: x + y\n",
        "\n",
        "print(add(2, 3))  # Output: 5\n",
        "\n",
        "# Lambda with `map()` to square all elements in a list\n",
        "nums = [1, 2, 3, 4]\n",
        "squared_nums = list(map(lambda x: x**2, nums))\n",
        "\n",
        "print(squared_nums)  # Output: [1, 4, 9, 16]\n",
        "\n",
        "# Sorting a list of tuples by the second value\n",
        "data = [(1, 'apple'), (2, 'banana'), (3, 'cherry')]\n",
        "sorted_data = sorted(data, key=lambda x: x[1])\n",
        "print(sorted_data)  # Output: [(1, 'apple'), (2, 'banana'), (3, 'cherry')]\n",
        "\n",
        "When to use a lambda function:\n",
        "For simple, one-line functions.\n",
        "When passing a small function as an argument to other functions.\n",
        "When you don't need to reuse the function elsewhere in your code.\n",
        "\n"
      ],
      "metadata": {
        "id": "S3OiOMW-Xk9f"
      }
    },
    {
      "cell_type": "markdown",
      "source": [
        "Q-9. Explain the purpose and usage of the `map()` function in Python.\n",
        "Ans.\n",
        "The map() function in Python applies a given function to all items in an iterable (like a list, tuple, etc.) and returns an iterator that yields the results of those function calls.\n",
        "\n",
        "Syntax:\n",
        "\n",
        "python\n",
        "Copy code\n",
        "map(function, iterable)\n",
        "function: The function to apply to each item of the iterable. This can be a built-in function or a user-defined function.\n",
        "iterable: The iterable object (e.g., list, tuple) whose elements will be passed to the function.\n",
        "How map() works:\n",
        "\n",
        "It applies the function to each item in the iterable.\n",
        "The function is applied one item at a time and the result is returned as an iterator.\n",
        "If multiple iterables are passed, the function will be applied to the items of all iterables, in parallel, stopping when the shortest iterable is exhausted.\n",
        "Example:\n",
        "\n",
        "\n",
        "    # Function to double a number\n",
        "    def double(x):\n",
        "    return x * 2\n",
        "\n",
        "    # Applying `double()` to each element of the list using `map()`\n",
        "\n",
        "    nums = [1, 2, 3, 4]\n",
        "    result = map(double, nums)\n",
        "\n",
        "    # Converting the result to a list to print\n",
        "\n",
        "    print(list(result))  # Output: [2, 4, 6, 8]\n",
        "\n",
        "    The result is an iterator, and converting it to a list (or another collection) allows you to view the results. The map() function is useful when you want to apply the same operation to every element of an iterable.\n",
        "\n"
      ],
      "metadata": {
        "id": "DfQqqQGRYKWu"
      }
    },
    {
      "cell_type": "markdown",
      "source": [
        "Q-10. What is the difference between `map()`, `reduce()`, and `filter()` functions in Python?\n",
        "Ans.\n",
        "\n",
        "map():\n",
        "\n",
        "Purpose: Applies a function to all items in an iterable (or multiple iterables) and returns a new iterable with the results.\n",
        "\n",
        "Output: An iterator that yields results based on the function applied to each element of the iterable.\n",
        "\n",
        "Use case: When you want to transform the items of a list or iterable into a new form.\n",
        "\n",
        "Example:\n",
        "\n",
        "    nums = [1, 2, 3]\n",
        "    doubled = map(lambda x: x * 2, nums)  # Doubles each number\n",
        "\n",
        "reduce() (from the functools module):\n",
        "\n",
        "Purpose: Applies a function to pairs of items from an iterable, reducing them to a single result (cumulative result).\n",
        "\n",
        "Output: A single value.\n",
        "\n",
        "Use case: When you want to accumulate or combine elements in an iterable into a single result.\n",
        "\n",
        "Example:\n",
        "\n",
        "    from functools import reduce\n",
        "    nums = [47, 11, 42, 13]\n",
        "    result = reduce(lambda x, y: x + y, nums)  # Sums all numbers in the list\n",
        "    print(result)  # Output: 113\n",
        "\n",
        "\n",
        "filter():\n",
        "\n",
        "Purpose: Filters elements of an iterable based on a function that evaluates whether each item should be included.\n",
        "\n",
        "Output: An iterator that contains the elements of the iterable that satisfy the condition defined in the function.\n",
        "\n",
        "Use case: When you want to select a subset of items that meet a certain condition.\n",
        "\n",
        "Example:\n",
        "\n",
        "    nums = [1, 2, 3, 4, 5]\n",
        "    evens = filter(lambda x: x % 2 == 0, nums)  # Filters even numbers\n",
        "    print(list(evens))  # Output: [2, 4]"
      ],
      "metadata": {
        "id": "bBmpoWGTY_XL"
      }
    },
    {
      "cell_type": "markdown",
      "source": [
        "Q-11. write the internal mechanism for sum operation using  reduce function on this given\n",
        "list:[47,11,42,13]\n",
        "\n"
      ],
      "metadata": {
        "id": "D6aF622AeTU8"
      }
    },
    {
      "cell_type": "markdown",
      "source": [
        "Ans. /content/reduce op..pdf"
      ],
      "metadata": {
        "id": "yyWqf21ojT04"
      }
    },
    {
      "cell_type": "code",
      "source": [
        "from google.colab import drive\n",
        "drive.mount('/content/drive')"
      ],
      "metadata": {
        "id": "dtrSQwO-pRg6"
      },
      "execution_count": null,
      "outputs": []
    },
    {
      "cell_type": "markdown",
      "source": [
        "#Practical Questions"
      ],
      "metadata": {
        "id": "XZllzgEFJtzk"
      }
    },
    {
      "cell_type": "markdown",
      "source": [],
      "metadata": {
        "id": "ycuDLKisJrby"
      }
    },
    {
      "cell_type": "markdown",
      "source": [
        "1. Write a Python function that takes a list of numbers as input and returns the sum of all even numbers in\n",
        "the list."
      ],
      "metadata": {
        "id": "6bBfdqISEa6r"
      }
    },
    {
      "cell_type": "code",
      "execution_count": null,
      "metadata": {
        "id": "gvKPB0j9vVxR"
      },
      "outputs": [],
      "source": [
        "def SumOfNum():\n",
        "  l=[1,2,3,4,5,8]\n",
        "  l1=[]\n",
        "  sum=0\n",
        "  for i in l:\n",
        "    if i%2==0:\n",
        "     sum+=i\n",
        "  l1.append(sum)\n",
        "  return l1\n"
      ]
    },
    {
      "cell_type": "code",
      "source": [
        "l=[1,2,3,4,5,8]"
      ],
      "metadata": {
        "id": "RBmOntmYwBgj"
      },
      "execution_count": null,
      "outputs": []
    },
    {
      "cell_type": "code",
      "source": [
        "SumOfNum()"
      ],
      "metadata": {
        "colab": {
          "base_uri": "https://localhost:8080/"
        },
        "id": "3-UZsXl0vzdA",
        "outputId": "a0672c98-bb1a-4b20-8922-616c14106c74"
      },
      "execution_count": null,
      "outputs": [
        {
          "output_type": "execute_result",
          "data": {
            "text/plain": [
              "[14]"
            ]
          },
          "metadata": {},
          "execution_count": 23
        }
      ]
    },
    {
      "cell_type": "markdown",
      "source": [
        "2. Create a Python function that accepts a string and returns the reverse of that string."
      ],
      "metadata": {
        "id": "A2bLivSqElZ_"
      }
    },
    {
      "cell_type": "code",
      "source": [
        "def ReversedString():\n",
        "  s=\"Discipline\"\n",
        "  reverse_string=\"\"\n",
        "  for char in s[10::-1]:\n",
        "    reverse_string+=char\n",
        "  return  reverse_string\n"
      ],
      "metadata": {
        "id": "ZbMT62CXv915"
      },
      "execution_count": null,
      "outputs": []
    },
    {
      "cell_type": "code",
      "source": [
        "s=\"Discipline\""
      ],
      "metadata": {
        "id": "hkefjpwwyDA0"
      },
      "execution_count": null,
      "outputs": []
    },
    {
      "cell_type": "code",
      "source": [
        "ReversedString()"
      ],
      "metadata": {
        "colab": {
          "base_uri": "https://localhost:8080/",
          "height": 35
        },
        "id": "LxetBw1ox8_T",
        "outputId": "9e0c3e44-0494-467e-aebc-c1c76d3fb07d"
      },
      "execution_count": null,
      "outputs": [
        {
          "output_type": "execute_result",
          "data": {
            "text/plain": [
              "'enilpicsiD'"
            ],
            "application/vnd.google.colaboratory.intrinsic+json": {
              "type": "string"
            }
          },
          "metadata": {},
          "execution_count": 34
        }
      ]
    },
    {
      "cell_type": "markdown",
      "source": [
        "3. Implement a Python function that takes a list of integers and returns a new list containing the squares of\n",
        "each number."
      ],
      "metadata": {
        "id": "fx48aXCoEpuE"
      }
    },
    {
      "cell_type": "code",
      "source": [
        "l=[2,3,4,5,6]"
      ],
      "metadata": {
        "id": "urOAhZ_uyA6S"
      },
      "execution_count": null,
      "outputs": []
    },
    {
      "cell_type": "code",
      "source": [
        "map(lambda x:x**2,l)"
      ],
      "metadata": {
        "colab": {
          "base_uri": "https://localhost:8080/"
        },
        "id": "rnv7rMK-ykVm",
        "outputId": "c38bfdbf-095d-468e-a8aa-ccb1ac67de69"
      },
      "execution_count": null,
      "outputs": [
        {
          "output_type": "execute_result",
          "data": {
            "text/plain": [
              "<map at 0x7b3d10aa69b0>"
            ]
          },
          "metadata": {},
          "execution_count": 36
        }
      ]
    },
    {
      "cell_type": "code",
      "source": [
        "list(map(lambda x:x**2,l))"
      ],
      "metadata": {
        "colab": {
          "base_uri": "https://localhost:8080/"
        },
        "id": "uM93ZAkWzCkp",
        "outputId": "3501d9ff-24a0-4b01-8151-386f6dd5064f"
      },
      "execution_count": null,
      "outputs": [
        {
          "output_type": "execute_result",
          "data": {
            "text/plain": [
              "[4, 9, 16, 25, 36]"
            ]
          },
          "metadata": {},
          "execution_count": 39
        }
      ]
    },
    {
      "cell_type": "code",
      "source": [
        "def SquareOfNum():\n",
        "  l=[1,2,3,4,7]\n",
        "  l1=[]\n",
        "  for i in l:\n",
        "     l1.append(i**2)\n",
        "  return l1\n"
      ],
      "metadata": {
        "id": "IMdJI8PMysaS"
      },
      "execution_count": null,
      "outputs": []
    },
    {
      "cell_type": "code",
      "source": [
        " l=[1,2,3,4,7]"
      ],
      "metadata": {
        "id": "jbK8OGZtzx1x"
      },
      "execution_count": null,
      "outputs": []
    },
    {
      "cell_type": "code",
      "source": [
        "SquareOfNum()"
      ],
      "metadata": {
        "colab": {
          "base_uri": "https://localhost:8080/"
        },
        "id": "apPqPTZ4z0Km",
        "outputId": "a072ee64-debd-49e3-8744-009756e28824"
      },
      "execution_count": null,
      "outputs": [
        {
          "output_type": "execute_result",
          "data": {
            "text/plain": [
              "[1, 4, 9, 16, 49]"
            ]
          },
          "metadata": {},
          "execution_count": 51
        }
      ]
    },
    {
      "cell_type": "markdown",
      "source": [
        "4. Write a Python function that checks if a given number is prime or not from 1 to 200."
      ],
      "metadata": {
        "id": "JmhDjEaZHC40"
      }
    },
    {
      "cell_type": "code",
      "source": [
        "def primefun(n):\n",
        "  if n<2:\n",
        "    return False\n",
        "  for i in range(2,int(n**0.5)+1):\n",
        "    if n%i==0:\n",
        "       return False\n",
        "  return True\n",
        "\n",
        "for num in range(2,201):\n",
        "  result= \"Prime\" if primefun(num) else \"Not Prime\"\n",
        "  print(f\"{num}:{result}\")"
      ],
      "metadata": {
        "colab": {
          "base_uri": "https://localhost:8080/"
        },
        "id": "lPVe3Nn_4WI3",
        "outputId": "1d97de85-7fe4-45e5-b0f3-2d344ce5fdb4"
      },
      "execution_count": null,
      "outputs": [
        {
          "output_type": "stream",
          "name": "stdout",
          "text": [
            "2:Prime\n",
            "3:Prime\n",
            "4:Not Prime\n",
            "5:Prime\n",
            "6:Not Prime\n",
            "7:Prime\n",
            "8:Not Prime\n",
            "9:Not Prime\n",
            "10:Not Prime\n",
            "11:Prime\n",
            "12:Not Prime\n",
            "13:Prime\n",
            "14:Not Prime\n",
            "15:Not Prime\n",
            "16:Not Prime\n",
            "17:Prime\n",
            "18:Not Prime\n",
            "19:Prime\n",
            "20:Not Prime\n",
            "21:Not Prime\n",
            "22:Not Prime\n",
            "23:Prime\n",
            "24:Not Prime\n",
            "25:Not Prime\n",
            "26:Not Prime\n",
            "27:Not Prime\n",
            "28:Not Prime\n",
            "29:Prime\n",
            "30:Not Prime\n",
            "31:Prime\n",
            "32:Not Prime\n",
            "33:Not Prime\n",
            "34:Not Prime\n",
            "35:Not Prime\n",
            "36:Not Prime\n",
            "37:Prime\n",
            "38:Not Prime\n",
            "39:Not Prime\n",
            "40:Not Prime\n",
            "41:Prime\n",
            "42:Not Prime\n",
            "43:Prime\n",
            "44:Not Prime\n",
            "45:Not Prime\n",
            "46:Not Prime\n",
            "47:Prime\n",
            "48:Not Prime\n",
            "49:Not Prime\n",
            "50:Not Prime\n",
            "51:Not Prime\n",
            "52:Not Prime\n",
            "53:Prime\n",
            "54:Not Prime\n",
            "55:Not Prime\n",
            "56:Not Prime\n",
            "57:Not Prime\n",
            "58:Not Prime\n",
            "59:Prime\n",
            "60:Not Prime\n",
            "61:Prime\n",
            "62:Not Prime\n",
            "63:Not Prime\n",
            "64:Not Prime\n",
            "65:Not Prime\n",
            "66:Not Prime\n",
            "67:Prime\n",
            "68:Not Prime\n",
            "69:Not Prime\n",
            "70:Not Prime\n",
            "71:Prime\n",
            "72:Not Prime\n",
            "73:Prime\n",
            "74:Not Prime\n",
            "75:Not Prime\n",
            "76:Not Prime\n",
            "77:Not Prime\n",
            "78:Not Prime\n",
            "79:Prime\n",
            "80:Not Prime\n",
            "81:Not Prime\n",
            "82:Not Prime\n",
            "83:Prime\n",
            "84:Not Prime\n",
            "85:Not Prime\n",
            "86:Not Prime\n",
            "87:Not Prime\n",
            "88:Not Prime\n",
            "89:Prime\n",
            "90:Not Prime\n",
            "91:Not Prime\n",
            "92:Not Prime\n",
            "93:Not Prime\n",
            "94:Not Prime\n",
            "95:Not Prime\n",
            "96:Not Prime\n",
            "97:Prime\n",
            "98:Not Prime\n",
            "99:Not Prime\n",
            "100:Not Prime\n",
            "101:Prime\n",
            "102:Not Prime\n",
            "103:Prime\n",
            "104:Not Prime\n",
            "105:Not Prime\n",
            "106:Not Prime\n",
            "107:Prime\n",
            "108:Not Prime\n",
            "109:Prime\n",
            "110:Not Prime\n",
            "111:Not Prime\n",
            "112:Not Prime\n",
            "113:Prime\n",
            "114:Not Prime\n",
            "115:Not Prime\n",
            "116:Not Prime\n",
            "117:Not Prime\n",
            "118:Not Prime\n",
            "119:Not Prime\n",
            "120:Not Prime\n",
            "121:Not Prime\n",
            "122:Not Prime\n",
            "123:Not Prime\n",
            "124:Not Prime\n",
            "125:Not Prime\n",
            "126:Not Prime\n",
            "127:Prime\n",
            "128:Not Prime\n",
            "129:Not Prime\n",
            "130:Not Prime\n",
            "131:Prime\n",
            "132:Not Prime\n",
            "133:Not Prime\n",
            "134:Not Prime\n",
            "135:Not Prime\n",
            "136:Not Prime\n",
            "137:Prime\n",
            "138:Not Prime\n",
            "139:Prime\n",
            "140:Not Prime\n",
            "141:Not Prime\n",
            "142:Not Prime\n",
            "143:Not Prime\n",
            "144:Not Prime\n",
            "145:Not Prime\n",
            "146:Not Prime\n",
            "147:Not Prime\n",
            "148:Not Prime\n",
            "149:Prime\n",
            "150:Not Prime\n",
            "151:Prime\n",
            "152:Not Prime\n",
            "153:Not Prime\n",
            "154:Not Prime\n",
            "155:Not Prime\n",
            "156:Not Prime\n",
            "157:Prime\n",
            "158:Not Prime\n",
            "159:Not Prime\n",
            "160:Not Prime\n",
            "161:Not Prime\n",
            "162:Not Prime\n",
            "163:Prime\n",
            "164:Not Prime\n",
            "165:Not Prime\n",
            "166:Not Prime\n",
            "167:Prime\n",
            "168:Not Prime\n",
            "169:Not Prime\n",
            "170:Not Prime\n",
            "171:Not Prime\n",
            "172:Not Prime\n",
            "173:Prime\n",
            "174:Not Prime\n",
            "175:Not Prime\n",
            "176:Not Prime\n",
            "177:Not Prime\n",
            "178:Not Prime\n",
            "179:Prime\n",
            "180:Not Prime\n",
            "181:Prime\n",
            "182:Not Prime\n",
            "183:Not Prime\n",
            "184:Not Prime\n",
            "185:Not Prime\n",
            "186:Not Prime\n",
            "187:Not Prime\n",
            "188:Not Prime\n",
            "189:Not Prime\n",
            "190:Not Prime\n",
            "191:Prime\n",
            "192:Not Prime\n",
            "193:Prime\n",
            "194:Not Prime\n",
            "195:Not Prime\n",
            "196:Not Prime\n",
            "197:Prime\n",
            "198:Not Prime\n",
            "199:Prime\n",
            "200:Not Prime\n"
          ]
        }
      ]
    },
    {
      "cell_type": "markdown",
      "source": [
        "5. Create an iterator class in Python that generates the Fibonacci sequence up to a specified number of\n",
        "terms."
      ],
      "metadata": {
        "id": "aJ1mem9ZHHMr"
      }
    },
    {
      "cell_type": "code",
      "source": [
        "def fib():\n",
        "  a=0\n",
        "  b=1\n",
        "  n=10\n",
        "  seq=[]\n",
        "  for i in range(n):\n",
        "    seq.append(a)\n",
        "    a,b=b,a+b\n",
        "  return seq\n",
        "\n"
      ],
      "metadata": {
        "id": "lfFaxBYiz2hg"
      },
      "execution_count": null,
      "outputs": []
    },
    {
      "cell_type": "code",
      "source": [
        "fib()"
      ],
      "metadata": {
        "colab": {
          "base_uri": "https://localhost:8080/"
        },
        "id": "lZN2C2EX0tlc",
        "outputId": "03f2aaa5-c3e0-4201-d801-a40492e8080b"
      },
      "execution_count": null,
      "outputs": [
        {
          "output_type": "execute_result",
          "data": {
            "text/plain": [
              "[0, 1, 1, 2, 3, 5, 8, 13, 21, 34]"
            ]
          },
          "metadata": {},
          "execution_count": 70
        }
      ]
    },
    {
      "cell_type": "markdown",
      "source": [
        "6. Write a generator function in Python that yields the powers of 2 up to a given exponent"
      ],
      "metadata": {
        "id": "Lgtrim5KHK7G"
      }
    },
    {
      "cell_type": "code",
      "source": [
        "def squareFun():\n",
        "  yield 2**6"
      ],
      "metadata": {
        "id": "rMSDfbv902jL"
      },
      "execution_count": null,
      "outputs": []
    },
    {
      "cell_type": "code",
      "source": [
        "squareFun()"
      ],
      "metadata": {
        "colab": {
          "base_uri": "https://localhost:8080/"
        },
        "id": "1LCsN-u39qXO",
        "outputId": "d67ee4e5-6784-4604-d09a-88bff0b4cb5c"
      },
      "execution_count": null,
      "outputs": [
        {
          "output_type": "execute_result",
          "data": {
            "text/plain": [
              "<generator object squareFun at 0x7b3d108059a0>"
            ]
          },
          "metadata": {},
          "execution_count": 92
        }
      ]
    },
    {
      "cell_type": "code",
      "source": [
        "list(squareFun())"
      ],
      "metadata": {
        "colab": {
          "base_uri": "https://localhost:8080/"
        },
        "id": "oYmgIOa69se3",
        "outputId": "bbf861af-c19d-4dea-8fd8-55c45f327bd2"
      },
      "execution_count": null,
      "outputs": [
        {
          "output_type": "execute_result",
          "data": {
            "text/plain": [
              "[64]"
            ]
          },
          "metadata": {},
          "execution_count": 93
        }
      ]
    },
    {
      "cell_type": "markdown",
      "source": [
        "7. Implement a generator function that reads a file line by line and yields each line as a string."
      ],
      "metadata": {
        "id": "33K4xGFYHtVH"
      }
    },
    {
      "cell_type": "code",
      "source": [
        "def read_file_line_by_line(file_path):\n",
        "    with open(file_path, 'r') as file:\n",
        "        for line in file:\n",
        "            yield line.strip()\n",
        "\n",
        "\n",
        "file_path = 'example.txt'\n",
        "for line in read_file_line_by_line(file_path):\n",
        "    print(line)"
      ],
      "metadata": {
        "id": "5T6CfMPUJoYS"
      },
      "execution_count": null,
      "outputs": []
    },
    {
      "cell_type": "markdown",
      "source": [
        "8. Use a lambda function in Python to sort a list of tuples based on the second element of each tuple."
      ],
      "metadata": {
        "id": "kSej545aHQbp"
      }
    },
    {
      "cell_type": "code",
      "source": [
        "l=[(1,2,3),(3,8,1),(7,1,9)]\n",
        "sortedlist=sorted(l,key=lambda x: x[1])\n",
        "print(sortedlist)"
      ],
      "metadata": {
        "colab": {
          "base_uri": "https://localhost:8080/"
        },
        "id": "CsLedAho9wV4",
        "outputId": "8303a221-92d1-4a13-ccb8-00c07801acb2"
      },
      "execution_count": null,
      "outputs": [
        {
          "output_type": "stream",
          "name": "stdout",
          "text": [
            "[(7, 1, 9), (1, 2, 3), (3, 8, 1)]\n"
          ]
        }
      ]
    },
    {
      "cell_type": "markdown",
      "source": [
        "9. Write a Python program that uses `map()` to convert a list of temperatures from Celsius to Fahrenheit."
      ],
      "metadata": {
        "id": "MavaN5dUHWy1"
      }
    },
    {
      "cell_type": "code",
      "source": [
        "l=[98,12]\n",
        "list(map(lambda a:a*(9/5)+32,l))"
      ],
      "metadata": {
        "colab": {
          "base_uri": "https://localhost:8080/"
        },
        "id": "GD_ZcBU--mnU",
        "outputId": "4ff86501-601b-4162-9b47-0dd67acc02fa"
      },
      "execution_count": null,
      "outputs": [
        {
          "output_type": "execute_result",
          "data": {
            "text/plain": [
              "[208.4, 53.6]"
            ]
          },
          "metadata": {},
          "execution_count": 100
        }
      ]
    },
    {
      "cell_type": "markdown",
      "source": [
        "10. Create a Python program that uses `filter()` to remove all the vowels from a given string."
      ],
      "metadata": {
        "id": "DhheH_nhHbAE"
      }
    },
    {
      "cell_type": "code",
      "source": [
        "s=\"khushigupta\"\n",
        "v=[\"a\",\"e\",\"i\",\"o\",\"u\",\"A\",\"E\",\"I\",\"O\",\"U\"]\n",
        "list(filter(lambda x:x not in v,s))"
      ],
      "metadata": {
        "colab": {
          "base_uri": "https://localhost:8080/"
        },
        "id": "HYgZF0YlAJBB",
        "outputId": "b171af1a-e868-4c47-f156-8504b105f02c"
      },
      "execution_count": null,
      "outputs": [
        {
          "output_type": "execute_result",
          "data": {
            "text/plain": [
              "['k', 'h', 's', 'h', 'g', 'p', 't']"
            ]
          },
          "metadata": {},
          "execution_count": 105
        }
      ]
    },
    {
      "cell_type": "markdown",
      "source": [
        "11) Imagine an accounting routine used in a book shop. It works on a list with sublists, which look like this:\n",
        "\n",
        "Write a Python program, which returns a list with 2-tuples. Each tuple consists of the order number and the\n",
        "product of the price per item and the quantity. The product should be increased by 10,- € if the value of the\n",
        "order is smaller than 100,00 €.\n",
        "\n",
        "Write a Python program using lambda and map."
      ],
      "metadata": {
        "id": "cIHQvHYeHe9K"
      }
    },
    {
      "cell_type": "code",
      "source": [
        "order=[\n",
        "    (34587,4,40.95),\n",
        "    (98762,5,56.80),\n",
        "    (77226,3,32.95),\n",
        "    (88112,3,24.99)\n",
        "]\n",
        "\n",
        "list(map(lambda x: (x[0],x[1]*x[2] +10) if x[1] * x[2]<100 else (x[0],x[1] * x[2]),order))"
      ],
      "metadata": {
        "colab": {
          "base_uri": "https://localhost:8080/"
        },
        "id": "tab4orFzAiSs",
        "outputId": "6f7a9b04-b9ed-4bf4-80a7-2e012e2d263b"
      },
      "execution_count": null,
      "outputs": [
        {
          "output_type": "execute_result",
          "data": {
            "text/plain": [
              "[(34587, 163.8), (98762, 284.0), (77226, 108.85000000000001), (88112, 84.97)]"
            ]
          },
          "metadata": {},
          "execution_count": 107
        }
      ]
    },
    {
      "cell_type": "code",
      "source": [],
      "metadata": {
        "id": "e631r7VgDopT"
      },
      "execution_count": null,
      "outputs": []
    }
  ]
}