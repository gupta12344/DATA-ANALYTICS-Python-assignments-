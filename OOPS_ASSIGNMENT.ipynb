{
  "nbformat": 4,
  "nbformat_minor": 0,
  "metadata": {
    "colab": {
      "provenance": [],
      "authorship_tag": "ABX9TyM2yF76tkWQlmhpLQdZErAF",
      "include_colab_link": true
    },
    "kernelspec": {
      "name": "python3",
      "display_name": "Python 3"
    },
    "language_info": {
      "name": "python"
    }
  },
  "cells": [
    {
      "cell_type": "markdown",
      "metadata": {
        "id": "view-in-github",
        "colab_type": "text"
      },
      "source": [
        "<a href=\"https://colab.research.google.com/github/gupta12344/DATA-ANALYTICS-Python-assignments-/blob/main/OOPS_ASSIGNMENT.ipynb\" target=\"_parent\"><img src=\"https://colab.research.google.com/assets/colab-badge.svg\" alt=\"Open In Colab\"/></a>"
      ]
    },
    {
      "cell_type": "markdown",
      "source": [
        "# **                                                 `Python OOPs Questions`**"
      ],
      "metadata": {
        "id": "u4DP3anB1WGd"
      }
    },
    {
      "cell_type": "markdown",
      "source": [
        "1. What is Object-Oriented Programming (OOP)?\n",
        "\n",
        "  Ans. Object-Oriented Programming is a programming paradigm based on the concept of \"objects,\" which can contain data in the form of fields (attributes) and methods (functions). OOP emphasizes modularity, reusability, and scalability. Key principles of OOP include encapsulation, inheritance, polymorphism, and abstraction.\n",
        "\n",
        "2. What is a class in OOP?\n",
        "\n",
        "  Ans. A class in OOP is a blueprint for creating objects. It defines attributes and methods that the objects created from the class will have. For example, a Car class might have attributes like color and model, and methods like start() and stop().\n",
        "\n",
        "\n",
        "3. What is an object in OOP?\n",
        "\n",
        "  Ans. An object is an instance of a class. It is a real-world entity that combines data and methods. For example, if Car is a class, myCar = Car() creates an object of that class.\n",
        "\n",
        "4. What is the difference between abstraction and encapsulation?\n",
        "\n",
        "  Ans.\n",
        "\n",
        "  Abstraction: Focuses on hiding the implementation details and showing only essential features of an object. Achieved through abstract classes or interfaces.\n",
        "\n",
        "  Encapsulation: Combines data and methods into a single unit and restricts direct access to certain components. Achieved by using access specifiers (like private, protected).\n",
        "\n",
        "5. What are dunder methods in Python?\n",
        "\n",
        "  Ans. Dunder (double underscore) methods are special methods in Python that have\n",
        "     double underscores before and after their names. Examples include __init__, __str__, __repr__. These methods allow customization of object behavior.\n",
        "\n",
        "6. Explain the concept of inheritance in OOP.\n",
        "\n",
        "  Ans. Inheritance is a mechanism in which one class can derive properties and behaviors from another class. The derived class (child) inherits attributes and methods from the base class (parent), enabling reusability and hierarchical relationships.\n",
        "\n",
        "7. What is polymorphism in OOP?\n",
        "\n",
        "  Ans. Polymorphism allows methods in different classes to be called through the same name. It can occur through method overriding, operator overloading, and duck typing. For example, the + operator can be used to add integers or concatenate strings.\n",
        "\n",
        "8. How is encapsulation achieved in Python?\n",
        "\n",
        "  Ans. Encapsulation in Python is achieved by defining private attributes using a single or double underscore (_attribute or __attribute). Public getter and setter methods are used to access or modify private attributes.\n",
        "\n",
        "9. What is a constructor in Python?\n",
        "\n",
        "  Ans.  A constructor is a special method that is called when an object is instantiated. In Python, the constructor is defined using the __init__ method.\n",
        "\n",
        "10. What are class and static methods in Python?\n",
        "\n",
        "  Ans.\n",
        "\n",
        "  Class methods: Use the @classmethod decorator and have access to the class itself via the cls parameter.\n",
        "\n",
        "  Static methods: Use the @staticmethod decorator and do not depend on instance or class attributes.\n",
        "\n",
        "11. What is method overloading in Python?\n",
        "\n",
        "  Ans. Python does not support traditional method overloading. Instead, default arguments and variable-length arguments can be used to achieve similar functionality.\n",
        "\n",
        "12. What is method overriding in OOP?\n",
        "\n",
        "  Ans. Method overriding occurs when a derived class provides a specific implementation for a method that is already defined in its base class. This enables runtime polymorphism.\n",
        "\n",
        "13. What is a property decorator in Python?\n",
        "\n",
        "  Ans. The @property decorator is used to define getter methods, making it easier to access method output like an attribute. You can also define setters and deleters using @property_name.setter and @property_name.deleter.\n",
        "\n",
        "14. Why is polymorphism important in OOP?\n",
        "\n",
        "  Ans. Polymorphism enhances flexibility and reusability by allowing a single interface to handle different data types or classes. This simplifies code and promotes scalability.\n",
        "\n",
        "15. What is an abstract class in Python?\n",
        "\n",
        "  Ans.  An abstract class is a class that cannot be instantiated directly. It often contains one or more abstract methods (defined using the @abstractmethod decorator) that must be implemented in derived classes. Abstract classes are defined using the ABC module.\n",
        "\n",
        "16. What are the advantages of OOP?\n",
        "\n",
        "  Ans.\n",
        "\n",
        "  Modularity and reusability of code.\n",
        "\n",
        "  Easier to maintain and debug.\n",
        "\n",
        "  Enables real-world modeling.\n",
        "\n",
        "  Promotes data security through encapsulation.\n",
        "\n",
        "17. What is the difference between a class variable and an instance variable?\n",
        "\n",
        "  Ans.\n",
        "\n",
        "  Class variable: Shared across all instances of the class.\n",
        "\n",
        "  Instance variable: Unique to each instance and defined within a constructor or method.\n",
        "\n",
        "18. What is multiple inheritance in Python?\n",
        "\n",
        "  Ans. Multiple inheritance allows a class to inherit from more than one parent class.\n",
        "   Example:\n",
        "\n",
        "          class Parent1: pass\n",
        "          class Parent2: pass\n",
        "          class Child(Parent1, Parent2): pass\n",
        "\n",
        "19. Explain the purpose of __str__ and __repr__ methods in Python.\n",
        "\n",
        "  Ans.\n",
        "\n",
        "  __str__: Returns a human-readable string representation of an object, used by print().\n",
        "\n",
        "  __repr__: Returns an official string representation of an object, used for debugging.\n",
        "\n",
        "20. What is the significance of the super() function in Python?\n",
        "\n",
        "  Ans.\n",
        "\n",
        "  The super() function is used to call methods of the parent class. It is commonly used to initialize base class attributes within derived class constructors.\n",
        "\n",
        "21. What is the significance of the __del__ method in Python?\n",
        "\n",
        "  Ans.\n",
        "  The __del__ method is a destructor called when an object is about to be destroyed. It is used for cleanup operations.\n",
        "\n",
        "22. What is the difference between @staticmethod and @classmethod in Python?\n",
        "\n",
        "  Ans.\n",
        "  @staticmethod: Does not receive a reference to the instance or class; it acts like a regular function within a class.\n",
        "\n",
        "  @classmethod: Receives a reference to the class (cls) as the first argument and can modify the class state.\n",
        "\n",
        "23. How does polymorphism work in Python with inheritance?\n",
        "\n",
        "  Ans.\n",
        "  Polymorphism allows methods with the same name in base and derived classes to perform different behaviors, depending on the instance.\n",
        "\n",
        "24. What is method chaining in Python OOP?\n",
        "\n",
        "  Ans. Method chaining allows calling multiple methods on the same object consecutively. Each method returns the instance itself.\n",
        "  Example:\n",
        "\n",
        "         class Sample:\n",
        "           def method1(self):\n",
        "            # method code\n",
        "              return self\n",
        "          def method2(self):\n",
        "          # method code\n",
        "            return self\n",
        "        obj = Sample().method1().method2()\n",
        "\n",
        "25. What is the purpose of the __call__ method in Python?\n",
        "\n",
        "  Ans. The __call__ method allows an instance of a class to be called as if it were a function. This is used to define callable objects.\n",
        "\n",
        "\n",
        "\n"
      ],
      "metadata": {
        "id": "OcUnbrz41sDX"
      }
    },
    {
      "cell_type": "markdown",
      "source": [
        "# `**Practical Questions**`"
      ],
      "metadata": {
        "id": "POE4y1Bq6865"
      }
    },
    {
      "cell_type": "markdown",
      "source": [
        "1. Create a parent class Animal with a method speak() that prints a generic message. Create a child class Dog that overrides the speak() method to print \"Bark!\".\n"
      ],
      "metadata": {
        "id": "N6PtYnIT7C6Q"
      }
    },
    {
      "cell_type": "code",
      "execution_count": 1,
      "metadata": {
        "colab": {
          "base_uri": "https://localhost:8080/"
        },
        "id": "KuK0OpXk1Uw2",
        "outputId": "48be3249-c046-4c19-a73b-3744b521cc15"
      },
      "outputs": [
        {
          "output_type": "stream",
          "name": "stdout",
          "text": [
            "The animal makes a sound.\n",
            "Bark!\n"
          ]
        }
      ],
      "source": [
        "class Animal:\n",
        "    def speak(self):\n",
        "        print(\"The animal makes a sound.\")\n",
        "\n",
        "class Dog(Animal):\n",
        "    def speak(self):\n",
        "        print(\"Bark!\")\n",
        "\n",
        "\n",
        "animal = Animal()\n",
        "animal.speak()\n",
        "\n",
        "dog = Dog()\n",
        "dog.speak()"
      ]
    },
    {
      "cell_type": "markdown",
      "source": [
        "2. Write a program to create an abstract class Shape with a method area(). Derive classes Circle and Rectangle from it and implement the area() method in both."
      ],
      "metadata": {
        "id": "ypqAUlTJ7XJy"
      }
    },
    {
      "cell_type": "code",
      "source": [
        "from abc import ABC, abstractmethod\n",
        "\n",
        "class Shape(ABC):\n",
        "    @abstractmethod\n",
        "    def area(self):\n",
        "        pass\n",
        "\n",
        "class Circle(Shape):\n",
        "    def __init__(self, radius):\n",
        "        self.radius = radius\n",
        "\n",
        "    def area(self):\n",
        "        return 3.14 * self.radius * self.radius\n",
        "\n",
        "class Rectangle(Shape):\n",
        "    def __init__(self, length, breadth):\n",
        "        self.length = length\n",
        "        self.breadth = breadth\n",
        "\n",
        "    def area(self):\n",
        "        return self.length * self.breadth\n",
        "\n",
        "circle = Circle(5)\n",
        "print(circle.area())\n",
        "\n",
        "rectangle = Rectangle(4, 6)\n",
        "print(rectangle.area())\n"
      ],
      "metadata": {
        "colab": {
          "base_uri": "https://localhost:8080/"
        },
        "id": "CcEbwHSa7Oaa",
        "outputId": "9bee3e46-f5fa-47d7-e676-7ae78d058332"
      },
      "execution_count": 2,
      "outputs": [
        {
          "output_type": "stream",
          "name": "stdout",
          "text": [
            "78.5\n",
            "24\n"
          ]
        }
      ]
    },
    {
      "cell_type": "markdown",
      "source": [
        "3. Implement a multi-level inheritance scenario where a class Vehicle has an attribute type. Derive a class Car and further derive a class ElectricCar that adds a battery attribute."
      ],
      "metadata": {
        "id": "4PcJX7BX7isD"
      }
    },
    {
      "cell_type": "code",
      "source": [
        "class Vehicle:\n",
        "    def __init__(self, type):\n",
        "        self.type = type\n",
        "\n",
        "class Car(Vehicle):\n",
        "    def __init__(self, type, brand):\n",
        "        super().__init__(type)\n",
        "        self.brand = brand\n",
        "\n",
        "class ElectricCar(Car):\n",
        "    def __init__(self, type, brand, battery):\n",
        "        super().__init__(type, brand)\n",
        "        self.battery = battery\n",
        "\n",
        "# Example usage\n",
        "ec = ElectricCar(\"Car\", \"Tesla\", \"100 kWh\")\n",
        "print(ec.type, ec.brand, ec.battery)"
      ],
      "metadata": {
        "colab": {
          "base_uri": "https://localhost:8080/"
        },
        "id": "eErCns3b7e3o",
        "outputId": "517cbb98-3529-464f-bbb1-3eec1245373a"
      },
      "execution_count": 3,
      "outputs": [
        {
          "output_type": "stream",
          "name": "stdout",
          "text": [
            "Car Tesla 100 kWh\n"
          ]
        }
      ]
    },
    {
      "cell_type": "markdown",
      "source": [
        "4. Write a program to demonstrate encapsulation by creating a class BankAccount with private attributes balance and methods to deposit, withdraw, and check balance."
      ],
      "metadata": {
        "id": "rYuLS_DQ7rxB"
      }
    },
    {
      "cell_type": "code",
      "source": [
        "class BankAccount:\n",
        "    def __init__(self, initial_balance):\n",
        "        self.__balance = initial_balance\n",
        "\n",
        "    def deposit(self, amount):\n",
        "        self.__balance += amount\n",
        "\n",
        "    def withdraw(self, amount):\n",
        "        if amount <= self.__balance:\n",
        "            self.__balance -= amount\n",
        "        else:\n",
        "            print(\"Insufficient balance.\")\n",
        "\n",
        "    def check_balance(self):\n",
        "        return self.__balance\n",
        "\n",
        "\n",
        "account = BankAccount(100)\n",
        "account.deposit(50)\n",
        "print(account.check_balance())\n",
        "account.withdraw(70)\n",
        "print(account.check_balance())"
      ],
      "metadata": {
        "colab": {
          "base_uri": "https://localhost:8080/"
        },
        "id": "XopivSEY7n59",
        "outputId": "13e3e0ac-a8af-4ac5-f07a-74d6a4e52e0f"
      },
      "execution_count": 4,
      "outputs": [
        {
          "output_type": "stream",
          "name": "stdout",
          "text": [
            "150\n",
            "80\n"
          ]
        }
      ]
    },
    {
      "cell_type": "markdown",
      "source": [
        "6. Create a class MathOperations with a class method add_numbers() to add two numbers and a static method subtract_numbers() to subtract two numbers."
      ],
      "metadata": {
        "id": "aeJxe4mi7zvv"
      }
    },
    {
      "cell_type": "code",
      "source": [
        "class MathOperations:\n",
        "    @classmethod\n",
        "    def add_numbers(cls, a, b):\n",
        "        return a + b\n",
        "\n",
        "    @staticmethod\n",
        "    def subtract_numbers(a, b):\n",
        "        return a - b\n",
        "\n",
        "# Example usage\n",
        "print(MathOperations.add_numbers(5, 3))\n",
        "print(MathOperations.subtract_numbers(10, 4))"
      ],
      "metadata": {
        "colab": {
          "base_uri": "https://localhost:8080/"
        },
        "id": "EgisItJC7yeG",
        "outputId": "c24a5cd9-4f09-445c-c73c-a2773bbaa3d2"
      },
      "execution_count": 5,
      "outputs": [
        {
          "output_type": "stream",
          "name": "stdout",
          "text": [
            "8\n",
            "6\n"
          ]
        }
      ]
    },
    {
      "cell_type": "markdown",
      "source": [
        "7. Write a class Fraction with attributes numerator and denominator. Override the __str__ method to display the fraction as \"numerator/denominator\"."
      ],
      "metadata": {
        "id": "A28xdrHV8BwN"
      }
    },
    {
      "cell_type": "code",
      "source": [
        "class Fraction:\n",
        "    def __init__(self, numerator, denominator):\n",
        "        self.numerator = numerator\n",
        "        self.denominator = denominator\n",
        "\n",
        "    def __str__(self):\n",
        "        return f\"{self.numerator}/{self.denominator}\"\n",
        "\n",
        "# Example usage\n",
        "fraction = Fraction(3, 4)\n",
        "print(fraction)"
      ],
      "metadata": {
        "id": "nBqbyp6X7-yc"
      },
      "execution_count": null,
      "outputs": []
    },
    {
      "cell_type": "markdown",
      "source": [
        "8. Write a class Product with attributes name, price, and quantity. Implement a method total_price() that calculates the total price of the product."
      ],
      "metadata": {
        "id": "cJCqzmmN8yLv"
      }
    },
    {
      "cell_type": "code",
      "source": [
        "class Product:\n",
        "    def __init__(self, name, price, quantity):\n",
        "        self.name = name\n",
        "        self.price = price\n",
        "        self.quantity = quantity\n",
        "\n",
        "    def total_price(self):\n",
        "        return self.price * self.quantity\n",
        "\n",
        "# Example usage\n",
        "product = Product(\"Laptop\", 800, 2)\n",
        "print(product.total_price())"
      ],
      "metadata": {
        "colab": {
          "base_uri": "https://localhost:8080/"
        },
        "id": "Pep1bT_v8zVT",
        "outputId": "de88c652-736a-439d-ce92-6b664d23b6f8"
      },
      "execution_count": 6,
      "outputs": [
        {
          "output_type": "stream",
          "name": "stdout",
          "text": [
            "1600\n"
          ]
        }
      ]
    },
    {
      "cell_type": "markdown",
      "source": [
        "9. Create a class Animal with an abstract method sound(). Create two derived classes Cow and Sheep that implement the sound() method."
      ],
      "metadata": {
        "id": "K7T4lKbf827y"
      }
    },
    {
      "cell_type": "code",
      "source": [
        "from abc import ABC, abstractmethod\n",
        "\n",
        "class Animal(ABC):\n",
        "    @abstractmethod\n",
        "    def sound(self):\n",
        "        pass\n",
        "\n",
        "class Cow(Animal):\n",
        "    def sound(self):\n",
        "        return \"Moo\"\n",
        "\n",
        "class Sheep(Animal):\n",
        "    def sound(self):\n",
        "        return \"Baa\"\n",
        "\n",
        "# Example usage\n",
        "cow = Cow()\n",
        "sheep = Sheep()\n",
        "print(cow.sound())\n",
        "print(sheep.sound())"
      ],
      "metadata": {
        "colab": {
          "base_uri": "https://localhost:8080/"
        },
        "id": "SYj5TH_d9A4r",
        "outputId": "0bbac4c0-d84a-43dc-8045-8e530e3bceaf"
      },
      "execution_count": 7,
      "outputs": [
        {
          "output_type": "stream",
          "name": "stdout",
          "text": [
            "Moo\n",
            "Baa\n"
          ]
        }
      ]
    },
    {
      "cell_type": "markdown",
      "source": [
        "10. Create a class Book with attributes title, author, and year_published. Add a method get_book_info() that returns a formatted string with the book's details."
      ],
      "metadata": {
        "id": "_mKuAVDR9Dui"
      }
    },
    {
      "cell_type": "code",
      "source": [
        "class Book:\n",
        "    def __init__(self, title, author, year_published):\n",
        "        self.title = title\n",
        "        self.author = author\n",
        "        self.year_published = year_published\n",
        "\n",
        "    def get_book_info(self):\n",
        "        return f\"'{self.title}' by {self.author}, published in {self.year_published}\"\n",
        "\n",
        "# Example usage\n",
        "book = Book(\"1984\", \"George Orwell\", 1949)\n",
        "print(book.get_book_info())"
      ],
      "metadata": {
        "colab": {
          "base_uri": "https://localhost:8080/"
        },
        "id": "88Ld9c_29CVV",
        "outputId": "a73fec63-50f7-4178-a912-0f72c1d38ac3"
      },
      "execution_count": 8,
      "outputs": [
        {
          "output_type": "stream",
          "name": "stdout",
          "text": [
            "'1984' by George Orwell, published in 1949\n"
          ]
        }
      ]
    },
    {
      "cell_type": "markdown",
      "source": [
        "11. Create a class House with attributes address and price. Create a derived class Mansion that adds an attribute number_of_rooms."
      ],
      "metadata": {
        "id": "5lzQWd689PoP"
      }
    },
    {
      "cell_type": "code",
      "source": [
        "class Book:\n",
        "    def __init__(self, title, author, year_published):\n",
        "        self.title = title\n",
        "        self.author = author\n",
        "        self.year_published = year_published\n",
        "\n",
        "    def get_book_info(self):\n",
        "        return f\"'{self.title}' by {self.author}, published in {self.year_published}\"\n",
        "\n",
        "# Example usage\n",
        "book = Book(\"1984\", \"George Orwell\", 1949)\n",
        "print(book.get_book_info())"
      ],
      "metadata": {
        "colab": {
          "base_uri": "https://localhost:8080/"
        },
        "id": "OSJaKznu9L6v",
        "outputId": "15d2ecbb-2a96-4275-ca9f-65dca9b44f2d"
      },
      "execution_count": 9,
      "outputs": [
        {
          "output_type": "stream",
          "name": "stdout",
          "text": [
            "'1984' by George Orwell, published in 1949\n"
          ]
        }
      ]
    },
    {
      "cell_type": "markdown",
      "source": [
        "12. Implement a class Student with attributes name and grades. Create a method average_grade() to compute the average of the grades."
      ],
      "metadata": {
        "id": "H-SqyvPRBiFM"
      }
    },
    {
      "cell_type": "code",
      "source": [
        "class Student:\n",
        "    def __init__(self, name, grades):\n",
        "        self.name = name\n",
        "        self.grades = grades\n",
        "\n",
        "    def average_grade(self):\n",
        "        return sum(self.grades) / len(self.grades)\n",
        "\n",
        "# Example usage\n",
        "student = Student(\"Alice\", [85, 90, 95])\n",
        "print(student.average_grade())"
      ],
      "metadata": {
        "id": "8A3P5rC49Upd"
      },
      "execution_count": null,
      "outputs": []
    },
    {
      "cell_type": "markdown",
      "source": [
        "13. Create a class Rectangle with methods set_dimensions() to set the dimensions and area() to calculate the area."
      ],
      "metadata": {
        "id": "6WumktvZBvm8"
      }
    },
    {
      "cell_type": "code",
      "source": [
        "class Rectangle:\n",
        "    def __init__(self):\n",
        "        self.length = 0\n",
        "        self.width = 0\n",
        "\n",
        "    def set_dimensions(self, length, width):\n",
        "        self.length = length\n",
        "        self.width = width\n",
        "\n",
        "    def area(self):\n",
        "        return self.length * self.width\n",
        "\n",
        "# Example usage\n",
        "rect = Rectangle()\n",
        "rect.set_dimensions(5, 10)\n",
        "print(rect.area())"
      ],
      "metadata": {
        "id": "PRyivr7-Bzd1"
      },
      "execution_count": null,
      "outputs": []
    },
    {
      "cell_type": "markdown",
      "source": [
        "14. Create a class Employee with a method calculate_salary() that computes the salary based on hours worked and hourly rate. Create a derived class Manager that adds a bonus to the salary."
      ],
      "metadata": {
        "id": "lv78lPYxB6OB"
      }
    },
    {
      "cell_type": "code",
      "source": [
        "class Employee:\n",
        "    def __init__(self, hours_worked, hourly_rate):\n",
        "        self.hours_worked = hours_worked\n",
        "        self.hourly_rate = hourly_rate\n",
        "\n",
        "    def calculate_salary(self):\n",
        "        return self.hours_worked * self.hourly_rate\n",
        "\n",
        "class Manager(Employee):\n",
        "    def __init__(self, hours_worked, hourly_rate, bonus):\n",
        "        super().__init__(hours_worked, hourly_rate)\n",
        "        self.bonus = bonus\n",
        "\n",
        "    def calculate_salary(self):\n",
        "        return super().calculate_salary() + self.bonus\n",
        "\n",
        "# Example usage\n",
        "manager = Manager(40, 50, 500)\n",
        "print(manager.calculate_salary())"
      ],
      "metadata": {
        "id": "YKEjUrQ5B7sY"
      },
      "execution_count": null,
      "outputs": []
    },
    {
      "cell_type": "markdown",
      "source": [
        "15. Create a class Product with attributes name, price, and quantity. Implement a method total_price() that calculates the total price of the product."
      ],
      "metadata": {
        "id": "NK_JubUVDGZn"
      }
    },
    {
      "cell_type": "code",
      "source": [
        "class Product:\n",
        "    def __init__(self, name, price, quantity):\n",
        "        self.name = name\n",
        "        self.price = price\n",
        "        self.quantity = quantity\n",
        "\n",
        "    def total_price(self):\n",
        "        return self.price * self.quantity\n",
        "\n",
        "# Example usage\n",
        "product = Product(\"Laptop\", 800, 2)\n",
        "print(product.total_price())\n"
      ],
      "metadata": {
        "colab": {
          "base_uri": "https://localhost:8080/"
        },
        "id": "D2xn3N0DDHfO",
        "outputId": "5f278ad9-53ee-41ef-af71-a125079771f3"
      },
      "execution_count": 11,
      "outputs": [
        {
          "output_type": "stream",
          "name": "stdout",
          "text": [
            "1600\n"
          ]
        }
      ]
    },
    {
      "cell_type": "markdown",
      "source": [
        "16. Create a class Animal with an abstract method sound(). Create two derived classes Cow and Sheep that implement the sound() method."
      ],
      "metadata": {
        "id": "4HtzKujIDNjs"
      }
    },
    {
      "cell_type": "code",
      "source": [
        "from abc import ABC, abstractmethod\n",
        "\n",
        "class Animal(ABC):\n",
        "    @abstractmethod\n",
        "    def sound(self):\n",
        "        pass\n",
        "\n",
        "class Cow(Animal):\n",
        "    def sound(self):\n",
        "        return \"Moo\"\n",
        "\n",
        "class Sheep(Animal):\n",
        "    def sound(self):\n",
        "        return \"Baa\"\n",
        "\n",
        "# Example usage\n",
        "cow = Cow()\n",
        "sheep = Sheep()\n",
        "print(cow.sound())\n",
        "print(sheep.sound())\n"
      ],
      "metadata": {
        "colab": {
          "base_uri": "https://localhost:8080/"
        },
        "id": "e0FPTQ4KDTpB",
        "outputId": "d2f7eea3-5770-453d-e3b8-87e8a75c2513"
      },
      "execution_count": 10,
      "outputs": [
        {
          "output_type": "stream",
          "name": "stdout",
          "text": [
            "Moo\n",
            "Baa\n"
          ]
        }
      ]
    },
    {
      "cell_type": "markdown",
      "source": [
        "17. Create a class Book with attributes title, author, and year_published. Add a method get_book_info() that returns a formatted string with the book's details."
      ],
      "metadata": {
        "id": "6HQ-IZmxDhbW"
      }
    },
    {
      "cell_type": "code",
      "source": [
        "class Book:\n",
        "    def __init__(self, title, author, year_published):\n",
        "        self.title = title\n",
        "        self.author = author\n",
        "        self.year_published = year_published\n",
        "\n",
        "    def get_book_info(self):\n",
        "        return f\"'{self.title}' by {self.author}, published in {self.year_published}\"\n",
        "\n",
        "# Example usage\n",
        "book = Book(\"1984\", \"George Orwell\", 1949)\n",
        "print(book.get_book_info())\n"
      ],
      "metadata": {
        "id": "X88t1Cs2DaV3"
      },
      "execution_count": null,
      "outputs": []
    },
    {
      "cell_type": "markdown",
      "source": [
        "18. Create a class House with attributes address and price. Create a derived class Mansion that adds an attribute number_of_rooms."
      ],
      "metadata": {
        "id": "--yeB8R_DnXT"
      }
    },
    {
      "cell_type": "code",
      "source": [
        "class House:\n",
        "    def __init__(self, address, price):\n",
        "        self.address = address\n",
        "        self.price = price\n",
        "\n",
        "class Mansion(House):\n",
        "    def __init__(self, address, price, number_of_rooms):\n",
        "        super().__init__(address, price)\n",
        "        self.number_of_rooms = number_of_rooms\n",
        "\n",
        "# Example usage\n",
        "mansion = Mansion(\"123 Elite Ave\", 500000, 8)\n",
        "print(mansion.address, mansion.price, mansion.number_of_rooms)\n"
      ],
      "metadata": {
        "id": "tj7KCnMFDryy"
      },
      "execution_count": null,
      "outputs": []
    }
  ]
}